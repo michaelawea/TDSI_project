{
 "cells": [
  {
   "cell_type": "markdown",
   "id": "rl9db9fxjug",
   "metadata": {},
   "source": [
    "# U-Net Based Image Super-Resolution Training\n",
    "\n",
    "This notebook implements a lightweight U-Net architecture for image super-resolution tasks. The model learns to transform low-resolution images into high-resolution outputs by training on paired HR-LR image datasets.\n",
    "\n",
    "## Project Overview\n",
    "- **Task**: Image Super-Resolution (SR)\n",
    "- **Architecture**: Modified U-Net with reduced depth and channel numbers\n",
    "- **Input**: Low-resolution images upsampled to 256×256 (bicubic interpolation)\n",
    "- **Output**: High-resolution images at 256×256\n",
    "- **Loss Function**: L1 Loss (Mean Absolute Error)\n",
    "\n",
    "---\n",
    "\n",
    "## 1. Import Dependencies"
   ]
  },
  {
   "cell_type": "code",
   "execution_count": 7,
   "id": "6c0577d9-928f-4ecf-bba7-231003a647ac",
   "metadata": {},
   "outputs": [],
   "source": [
    "import torch\n",
    "import torch.nn as nn\n",
    "import torch.optim as optim\n",
    "from torch.utils.data import Dataset, DataLoader\n",
    "import torchvision.transforms as transforms\n",
    "from PIL import Image\n",
    "import numpy as np\n",
    "import matplotlib.pyplot as plt\n",
    "from pathlib import Path\n",
    "import os\n",
    "from tqdm import tqdm"
   ]
  },
  {
   "cell_type": "markdown",
   "id": "k6mb5czjk8l",
   "metadata": {},
   "source": [
    "## 2. Device Configuration\n",
    "\n",
    "Check if CUDA GPU is available for accelerated training. The model will automatically use GPU if available, otherwise fall back to CPU."
   ]
  },
  {
   "cell_type": "code",
   "execution_count": 8,
   "id": "de0ad23c-140d-4f10-a445-c2f05b3f2196",
   "metadata": {},
   "outputs": [
    {
     "name": "stdout",
     "output_type": "stream",
     "text": [
      "使用设备: cuda\n",
      "GPU: Quadro RTX 6000\n"
     ]
    }
   ],
   "source": [
    "# 检查GPU\n",
    "device = torch.device('cuda' if torch.cuda.is_available() else 'cpu')\n",
    "print(f'使用设备: {device}')\n",
    "if torch.cuda.is_available():\n",
    "    print(f'GPU: {torch.cuda.get_device_name(0)}')"
   ]
  },
  {
   "cell_type": "markdown",
   "id": "vebq33yf9nq",
   "metadata": {},
   "source": [
    "## 3. Dataset Class\n",
    "\n",
    "### SRDataset: Super-Resolution Dataset\n",
    "\n",
    "This custom PyTorch Dataset class handles loading paired high-resolution (HR) and low-resolution (LR) images.\n",
    "\n",
    "**Key Features:**\n",
    "- Loads paired HR-LR images from separate directories\n",
    "- Upsamples LR images to target size using bicubic interpolation\n",
    "- Applies transformations (e.g., converting to tensors)\n",
    "- Ensures HR and LR image counts match\n",
    "\n",
    "**Process Flow:**\n",
    "1. Load LR image (e.g., 64×64)\n",
    "2. Load corresponding HR image (e.g., 256×256)\n",
    "3. Upsample LR to HR size using bicubic interpolation\n",
    "4. Convert both to tensors\n",
    "5. Return (LR_upsampled, HR) pair"
   ]
  },
  {
   "cell_type": "code",
   "execution_count": 9,
   "id": "cecbe2e1-67c5-4b17-b6df-0340666eb992",
   "metadata": {},
   "outputs": [],
   "source": [
    "class SRDataset(Dataset):\n",
    "    \"\"\"超分辨率数据集\"\"\"\n",
    "    def __init__(self, hr_dir, lr_dir, hr_size=256, transform=None):\n",
    "        self.hr_dir = Path(hr_dir)\n",
    "        self.lr_dir = Path(lr_dir)\n",
    "        self.hr_size = hr_size\n",
    "        self.transform = transform\n",
    "        \n",
    "        # 获取所有图片文件\n",
    "        self.hr_images = sorted(list(self.hr_dir.glob('*.png')))\n",
    "        self.lr_images = sorted(list(self.lr_dir.glob('*.png')))\n",
    "        \n",
    "        assert len(self.hr_images) == len(self.lr_images), \"HR和LR图片数量不匹配\"\n",
    "        \n",
    "    def __len__(self):\n",
    "        return len(self.hr_images)\n",
    "    \n",
    "    def __getitem__(self, idx):\n",
    "        # 读取图片\n",
    "        hr_img = Image.open(self.hr_images[idx]).convert('RGB')\n",
    "        lr_img = Image.open(self.lr_images[idx]).convert('RGB')\n",
    "        \n",
    "        # 将低分辨率图片上采样到目标尺寸（bicubic插值）\n",
    "        lr_img = lr_img.resize((self.hr_size, self.hr_size), Image.BICUBIC)\n",
    "        \n",
    "        if self.transform:\n",
    "            hr_img = self.transform(hr_img)\n",
    "            lr_img = self.transform(lr_img)\n",
    "        \n",
    "        return lr_img, hr_img"
   ]
  },
  {
   "cell_type": "markdown",
   "id": "f3pc9ryjyzs",
   "metadata": {},
   "source": [
    "## 4. U-Net Model Architecture\n",
    "\n",
    "### Overview of U-Net for Super-Resolution\n",
    "\n",
    "U-Net is a convolutional neural network originally designed for biomedical image segmentation, but it works excellently for image-to-image translation tasks like super-resolution. This implementation uses a **lightweight version** optimized for faster training.\n",
    "\n",
    "---\n",
    "\n",
    "### 4.1 DoubleConv Block\n",
    "\n",
    "The basic building block of our U-Net. Each DoubleConv consists of:\n",
    "- **Conv2d** (3×3 kernel, padding=1) → preserves spatial dimensions\n",
    "- **ReLU** activation (inplace for memory efficiency)\n",
    "- **Conv2d** (3×3 kernel, padding=1)\n",
    "- **ReLU** activation\n",
    "\n",
    "**Note**: BatchNorm layers are removed to accelerate training speed.\n",
    "\n",
    "---\n",
    "\n",
    "### 4.2 Down Block (Encoder)\n",
    "\n",
    "Downsampling block that reduces spatial dimensions while increasing feature channels:\n",
    "1. **MaxPool2d** (2×2) → reduces spatial size by half (e.g., 256×256 → 128×128)\n",
    "2. **DoubleConv** → extracts features at this resolution\n",
    "\n",
    "**Purpose**: Extract hierarchical features from coarse to fine.\n",
    "\n",
    "---\n",
    "\n",
    "### 4.3 Up Block (Decoder)\n",
    "\n",
    "Upsampling block that increases spatial dimensions:\n",
    "1. **Upsample** (nearest neighbor, 2×) → doubles spatial size (e.g., 64×64 → 128×128)\n",
    "2. **Concatenate** with skip connection from encoder → combines low-level and high-level features\n",
    "3. **DoubleConv** → refines the concatenated features\n",
    "\n",
    "**Skip Connections**: The key innovation of U-Net! By concatenating encoder features with decoder features, the model can recover fine spatial details lost during downsampling.\n",
    "\n",
    "---\n",
    "\n",
    "### 4.4 Complete U-Net Architecture\n",
    "\n",
    "#### Encoder Path (Downsampling):\n",
    "```\n",
    "Input: 3 channels (RGB), 256×256\n",
    "    ↓ [DoubleConv]\n",
    "  32 channels, 256×256\n",
    "    ↓ [Down1: MaxPool + DoubleConv]\n",
    "  64 channels, 128×128\n",
    "    ↓ [Down2: MaxPool + DoubleConv]\n",
    " 128 channels, 64×64\n",
    "    ↓ [Down3: MaxPool + DoubleConv]\n",
    " 256 channels, 32×32 (Bottleneck)\n",
    "```\n",
    "\n",
    "#### Decoder Path (Upsampling with Skip Connections):\n",
    "```\n",
    "256 channels, 32×32\n",
    "    ↓ [Up1: Upsample + Concat(128 from Down2) + DoubleConv]\n",
    "128 channels, 64×64\n",
    "    ↓ [Up2: Upsample + Concat(64 from Down1) + DoubleConv]\n",
    " 64 channels, 128×128\n",
    "    ↓ [Up3: Upsample + Concat(32 from inc) + DoubleConv]\n",
    " 32 channels, 256×256\n",
    "    ↓ [Output Conv 1×1]\n",
    "  3 channels, 256×256 (Output RGB image)\n",
    "```\n",
    "\n",
    "#### Channel Calculation in Decoder:\n",
    "- **Up1**: Concatenates 256 (from Down3) + 128 (from Down2) = 384 input channels → outputs 128 channels\n",
    "- **Up2**: Concatenates 128 (from Up1) + 64 (from Down1) = 192 input channels → outputs 64 channels\n",
    "- **Up3**: Concatenates 64 (from Up2) + 32 (from inc) = 96 input channels → outputs 32 channels\n",
    "\n",
    "---\n",
    "\n",
    "### Model Optimizations for Speed:\n",
    "1. **Reduced channel numbers**: Uses 32-64-128-256 instead of deeper networks\n",
    "2. **Shallower depth**: Only 3 downsampling layers instead of 4-5\n",
    "3. **No BatchNorm**: Removes BatchNorm layers to reduce computational overhead\n",
    "4. **Nearest neighbor upsampling**: Faster than transposed convolutions\n",
    "\n",
    "**Total Parameters**: ~1.9M (lightweight and fast to train)"
   ]
  },
  {
   "cell_type": "code",
   "execution_count": 10,
   "id": "9df5757f-9206-4a7d-b987-d4723ee8b9a8",
   "metadata": {},
   "outputs": [],
   "source": [
    "class DoubleConv(nn.Module):\n",
    "    \"\"\"双卷积块 (Conv -> ReLU) * 2 - 移除BatchNorm加速训练\"\"\"\n",
    "    def __init__(self, in_channels, out_channels):\n",
    "        super().__init__()\n",
    "        self.double_conv = nn.Sequential(\n",
    "            nn.Conv2d(in_channels, out_channels, kernel_size=3, padding=1),\n",
    "            nn.ReLU(inplace=True),\n",
    "            nn.Conv2d(out_channels, out_channels, kernel_size=3, padding=1),\n",
    "            nn.ReLU(inplace=True)\n",
    "        )\n",
    "    \n",
    "    def forward(self, x):\n",
    "        return self.double_conv(x)\n",
    "\n",
    "\n",
    "class Down(nn.Module):\n",
    "    \"\"\"下采样块 MaxPool -> DoubleConv\"\"\"\n",
    "    def __init__(self, in_channels, out_channels):\n",
    "        super().__init__()\n",
    "        self.maxpool_conv = nn.Sequential(\n",
    "            nn.MaxPool2d(2),\n",
    "            DoubleConv(in_channels, out_channels)\n",
    "        )\n",
    "    \n",
    "    def forward(self, x):\n",
    "        return self.maxpool_conv(x)\n",
    "\n",
    "\n",
    "class Up(nn.Module):\n",
    "    \"\"\"上采样块 Upsample -> DoubleConv\"\"\"\n",
    "    def __init__(self, in_channels, out_channels):\n",
    "        super().__init__()\n",
    "        # 使用最近邻上采样\n",
    "        self.up = nn.Upsample(scale_factor=2, mode='nearest')\n",
    "        self.conv = DoubleConv(in_channels, out_channels)\n",
    "    \n",
    "    def forward(self, x1, x2):\n",
    "        x1 = self.up(x1)\n",
    "        # 拼接跳跃连接\n",
    "        x = torch.cat([x2, x1], dim=1)\n",
    "        return self.conv(x)\n",
    "\n",
    "\n",
    "class UNet(nn.Module):\n",
    "    \"\"\"轻量级U-Net - 减少通道数和深度加速训练\"\"\"\n",
    "    def __init__(self, n_channels=3, n_classes=3):\n",
    "        super(UNet, self).__init__()\n",
    "        self.n_channels = n_channels\n",
    "        self.n_classes = n_classes\n",
    "        \n",
    "        # 编码器 - 减少通道数\n",
    "        self.inc = DoubleConv(n_channels, 32)\n",
    "        self.down1 = Down(32, 64)\n",
    "        self.down2 = Down(64, 128)\n",
    "        self.down3 = Down(128, 256)\n",
    "        \n",
    "        # 解码器\n",
    "        # up1: 拼接 down3输出(256) + down2输出(128) = 384\n",
    "        self.up1 = Up(256 + 128, 128)\n",
    "        # up2: 拼接 up1输出(128) + down1输出(64) = 192\n",
    "        self.up2 = Up(128 + 64, 64)\n",
    "        # up3: 拼接 up2输出(64) + inc输出(32) = 96\n",
    "        self.up3 = Up(64 + 32, 32)\n",
    "        \n",
    "        # 输出层\n",
    "        self.outc = nn.Conv2d(32, n_classes, kernel_size=1)\n",
    "    \n",
    "    def forward(self, x):\n",
    "        # 编码路径\n",
    "        x1 = self.inc(x)      # 32 channels\n",
    "        x2 = self.down1(x1)   # 64 channels\n",
    "        x3 = self.down2(x2)   # 128 channels\n",
    "        x4 = self.down3(x3)   # 256 channels\n",
    "        \n",
    "        # 解码路径（带跳跃连接）\n",
    "        x = self.up1(x4, x3)  # 256+128=384 -> 128\n",
    "        x = self.up2(x, x2)   # 128+64=192 -> 64\n",
    "        x = self.up3(x, x1)   # 64+32=96 -> 32\n",
    "        \n",
    "        # 输出\n",
    "        return self.outc(x)"
   ]
  },
  {
   "cell_type": "markdown",
   "id": "dtv0owwgzi",
   "metadata": {},
   "source": [
    "## 5. Training Configuration\n",
    "\n",
    "### Hyperparameters\n",
    "\n",
    "These parameters are tuned for **fast training** while maintaining good performance:\n",
    "\n",
    "- **BATCH_SIZE = 8**: Smaller batches for faster iteration\n",
    "- **LEARNING_RATE = 2e-4**: Higher learning rate to accelerate convergence\n",
    "- **NUM_EPOCHS = 30**: Fewer epochs needed due to efficient architecture\n",
    "- **TRAIN_SPLIT = 0.9**: 90% training data, 10% validation data\n",
    "\n",
    "### Data Paths\n",
    "- `HR_DIR`: Directory containing high-resolution ground truth images\n",
    "- `LR_DIR`: Directory containing corresponding low-resolution input images\n",
    "- `CHECKPOINT_DIR`: Where to save model checkpoints and training results"
   ]
  },
  {
   "cell_type": "code",
   "execution_count": 11,
   "id": "c281987f-3b63-4bb9-9605-61cc3a31af2f",
   "metadata": {},
   "outputs": [
    {
     "name": "stdout",
     "output_type": "stream",
     "text": [
      "批次大小: 8\n",
      "学习率: 0.0002\n",
      "训练轮数: 30\n",
      "优化策略: 轻量级模型 + 移除BatchNorm + 减少深度\n"
     ]
    }
   ],
   "source": [
    "# 超参数 - 优化训练速度\n",
    "BATCH_SIZE = 8  # 减小batch size加快单次迭代\n",
    "LEARNING_RATE = 2e-4  # 提高学习率加快收敛\n",
    "NUM_EPOCHS = 30  # 减少epoch数\n",
    "TRAIN_SPLIT = 0.9  # 90%训练，10%验证\n",
    "\n",
    "# 数据路径\n",
    "HR_DIR = './dataset/high_resolution'\n",
    "LR_DIR = './dataset/low_resolution'\n",
    "CHECKPOINT_DIR = Path('./checkpoints')\n",
    "CHECKPOINT_DIR.mkdir(exist_ok=True)\n",
    "\n",
    "print(f\"批次大小: {BATCH_SIZE}\")\n",
    "print(f\"学习率: {LEARNING_RATE}\")\n",
    "print(f\"训练轮数: {NUM_EPOCHS}\")\n",
    "print(\"优化策略: 轻量级模型 + 移除BatchNorm + 减少深度\")"
   ]
  },
  {
   "cell_type": "markdown",
   "id": "l89dsmsruta",
   "metadata": {},
   "source": [
    "## 6. Data Loading and Preprocessing\n",
    "\n",
    "### Data Pipeline:\n",
    "1. **Transform**: Convert PIL images to PyTorch tensors (values in [0, 1])\n",
    "2. **Dataset**: Load full dataset with paired HR-LR images\n",
    "3. **Split**: Randomly divide into training and validation sets\n",
    "4. **DataLoader**: Create batch iterators for efficient GPU utilization\n",
    "\n",
    "**Note**: `num_workers=0` is used to avoid multiprocessing issues during training."
   ]
  },
  {
   "cell_type": "code",
   "execution_count": 12,
   "id": "50ca4abf-c208-4fc5-aa80-87d767f353e5",
   "metadata": {},
   "outputs": [
    {
     "name": "stdout",
     "output_type": "stream",
     "text": [
      "总样本数: 1000\n",
      "训练集: 900\n",
      "验证集: 100\n",
      "训练批次数: 113\n"
     ]
    }
   ],
   "source": [
    "# 数据转换\n",
    "transform = transforms.Compose([\n",
    "    transforms.ToTensor(),\n",
    "])\n",
    "\n",
    "# 加载数据集（hr_size=256表示将LR上采样到256x256）\n",
    "full_dataset = SRDataset(HR_DIR, LR_DIR, hr_size=256, transform=transform)\n",
    "\n",
    "# 划分训练集和验证集\n",
    "train_size = int(TRAIN_SPLIT * len(full_dataset))\n",
    "val_size = len(full_dataset) - train_size\n",
    "train_dataset, val_dataset = torch.utils.data.random_split(full_dataset, [train_size, val_size])\n",
    "\n",
    "# 数据加载器（num_workers=0避免multiprocessing问题）\n",
    "train_loader = DataLoader(train_dataset, batch_size=BATCH_SIZE, shuffle=True, num_workers=0)\n",
    "val_loader = DataLoader(val_dataset, batch_size=BATCH_SIZE, shuffle=False, num_workers=0)\n",
    "\n",
    "print(f\"总样本数: {len(full_dataset)}\")\n",
    "print(f\"训练集: {train_size}\")\n",
    "print(f\"验证集: {val_size}\")\n",
    "print(f\"训练批次数: {len(train_loader)}\")"
   ]
  },
  {
   "cell_type": "markdown",
   "id": "hjfa5s84pp6",
   "metadata": {},
   "source": [
    "## 7. Model Initialization\n",
    "\n",
    "### Components:\n",
    "- **Model**: U-Net with 3 input channels (RGB) and 3 output channels (RGB)\n",
    "- **Loss Function**: L1 Loss (MAE) - better preserves sharp edges than L2 loss\n",
    "- **Optimizer**: Adam optimizer with learning rate 2e-4\n",
    "- **No LR Scheduler**: Using fixed learning rate for simplicity\n",
    "\n",
    "The model parameters are displayed to verify the lightweight architecture (~1.9M parameters)."
   ]
  },
  {
   "cell_type": "code",
   "execution_count": 13,
   "id": "2760c112-4a5b-442f-bb90-ba36da194619",
   "metadata": {},
   "outputs": [
    {
     "name": "stdout",
     "output_type": "stream",
     "text": [
      "\n",
      "模型参数总数: 1,946,947\n",
      "可训练参数: 1,946,947\n"
     ]
    }
   ],
   "source": [
    "# 初始化模型\n",
    "model = UNet(n_channels=3, n_classes=3).to(device)\n",
    "\n",
    "# 损失函数和优化器\n",
    "criterion = nn.L1Loss()  # L1损失（MAE）\n",
    "optimizer = optim.Adam(model.parameters(), lr=LEARNING_RATE)\n",
    "# 移除学习率调度器，使用固定学习率\n",
    "\n",
    "# 打印模型信息\n",
    "total_params = sum(p.numel() for p in model.parameters())\n",
    "trainable_params = sum(p.numel() for p in model.parameters() if p.requires_grad)\n",
    "print(f\"\\n模型参数总数: {total_params:,}\")\n",
    "print(f\"可训练参数: {trainable_params:,}\")"
   ]
  },
  {
   "cell_type": "markdown",
   "id": "61jri881tg8",
   "metadata": {},
   "source": [
    "## 8. Training and Validation Functions\n",
    "\n",
    "### train_epoch()\n",
    "Trains the model for one complete epoch:\n",
    "1. Set model to training mode\n",
    "2. For each batch:\n",
    "   - Forward pass: predict SR images\n",
    "   - Calculate L1 loss between predictions and ground truth\n",
    "   - Backward pass: compute gradients\n",
    "   - Update model weights\n",
    "3. Return average loss for the epoch\n",
    "\n",
    "### validate()\n",
    "Evaluates model on validation set:\n",
    "1. Set model to evaluation mode (disables dropout, etc.)\n",
    "2. Disable gradient computation (`torch.no_grad()`)\n",
    "3. Calculate loss on validation batches\n",
    "4. Return average validation loss\n",
    "\n",
    "**Purpose**: Validation loss helps monitor overfitting and select the best model."
   ]
  },
  {
   "cell_type": "code",
   "execution_count": 14,
   "id": "0d173755-4b74-49da-9c85-70cd3afd006b",
   "metadata": {},
   "outputs": [],
   "source": [
    "def train_epoch(model, train_loader, criterion, optimizer, device):\n",
    "    \"\"\"训练一个epoch - 优化版本\"\"\"\n",
    "    model.train()\n",
    "    running_loss = 0.0\n",
    "    \n",
    "    pbar = tqdm(train_loader, desc='训练')\n",
    "    for lr_imgs, hr_imgs in pbar:\n",
    "        lr_imgs = lr_imgs.to(device)\n",
    "        hr_imgs = hr_imgs.to(device)\n",
    "        \n",
    "        # 前向传播\n",
    "        optimizer.zero_grad()\n",
    "        outputs = model(lr_imgs)\n",
    "        loss = criterion(outputs, hr_imgs)\n",
    "        \n",
    "        # 反向传播\n",
    "        loss.backward()\n",
    "        optimizer.step()\n",
    "        \n",
    "        running_loss += loss.item()\n",
    "        pbar.set_postfix({'loss': f'{loss.item():.4f}'})\n",
    "    \n",
    "    return running_loss / len(train_loader)\n",
    "\n",
    "\n",
    "def validate(model, val_loader, criterion, device):\n",
    "    \"\"\"验证 - 优化版本\"\"\"\n",
    "    model.eval()\n",
    "    running_loss = 0.0\n",
    "    \n",
    "    with torch.no_grad():\n",
    "        for lr_imgs, hr_imgs in val_loader:\n",
    "            lr_imgs = lr_imgs.to(device)\n",
    "            hr_imgs = hr_imgs.to(device)\n",
    "            \n",
    "            outputs = model(lr_imgs)\n",
    "            loss = criterion(outputs, hr_imgs)\n",
    "            \n",
    "            running_loss += loss.item()\n",
    "    \n",
    "    return running_loss / len(val_loader)"
   ]
  },
  {
   "cell_type": "markdown",
   "id": "rh20z6w77u",
   "metadata": {},
   "source": [
    "## 9. Training Loop\n",
    "\n",
    "This cell executes the main training loop for all epochs.\n",
    "\n",
    "### Process for Each Epoch:\n",
    "1. **Train**: Run one epoch on training set\n",
    "2. **Validate**: Evaluate on validation set\n",
    "3. **Record**: Save losses to history\n",
    "4. **Checkpoint**:\n",
    "   - Save best model when validation loss improves\n",
    "   - Save checkpoint every 10 epochs for backup\n",
    "\n",
    "### Monitoring:\n",
    "- Training loss should decrease steadily\n",
    "- Validation loss should track training loss (gap indicates overfitting)\n",
    "- Progress bars show real-time batch-level loss\n",
    "\n",
    "The best model is saved based on lowest validation loss, ensuring the model generalizes well to unseen data."
   ]
  },
  {
   "cell_type": "code",
   "execution_count": 15,
   "id": "17730366-85fa-46a4-aaf0-f390064bd714",
   "metadata": {},
   "outputs": [
    {
     "name": "stdout",
     "output_type": "stream",
     "text": [
      "\n",
      "开始训练...\n",
      "\n",
      "\n",
      "Epoch 1/30\n",
      "--------------------------------------------------\n"
     ]
    },
    {
     "name": "stderr",
     "output_type": "stream",
     "text": [
      "训练: 100%|██████████████████████| 113/113 [00:13<00:00,  8.25it/s, loss=0.0184]\n"
     ]
    },
    {
     "name": "stdout",
     "output_type": "stream",
     "text": [
      "\n",
      "训练损失: 0.074577\n",
      "验证损失: 0.028503\n",
      "✓ 保存最佳模型 (验证损失: 0.028503)\n",
      "\n",
      "Epoch 2/30\n",
      "--------------------------------------------------\n"
     ]
    },
    {
     "name": "stderr",
     "output_type": "stream",
     "text": [
      "训练: 100%|██████████████████████| 113/113 [00:12<00:00,  9.39it/s, loss=0.0198]\n"
     ]
    },
    {
     "name": "stdout",
     "output_type": "stream",
     "text": [
      "\n",
      "训练损失: 0.022375\n",
      "验证损失: 0.018497\n",
      "✓ 保存最佳模型 (验证损失: 0.018497)\n",
      "\n",
      "Epoch 3/30\n",
      "--------------------------------------------------\n"
     ]
    },
    {
     "name": "stderr",
     "output_type": "stream",
     "text": [
      "训练: 100%|██████████████████████| 113/113 [00:11<00:00, 10.16it/s, loss=0.0075]\n"
     ]
    },
    {
     "name": "stdout",
     "output_type": "stream",
     "text": [
      "\n",
      "训练损失: 0.013611\n",
      "验证损失: 0.010287\n",
      "✓ 保存最佳模型 (验证损失: 0.010287)\n",
      "\n",
      "Epoch 4/30\n",
      "--------------------------------------------------\n"
     ]
    },
    {
     "name": "stderr",
     "output_type": "stream",
     "text": [
      "训练: 100%|██████████████████████| 113/113 [00:10<00:00, 10.40it/s, loss=0.0101]\n"
     ]
    },
    {
     "name": "stdout",
     "output_type": "stream",
     "text": [
      "\n",
      "训练损失: 0.009135\n",
      "验证损失: 0.009581\n",
      "✓ 保存最佳模型 (验证损失: 0.009581)\n",
      "\n",
      "Epoch 5/30\n",
      "--------------------------------------------------\n"
     ]
    },
    {
     "name": "stderr",
     "output_type": "stream",
     "text": [
      "训练: 100%|██████████████████████| 113/113 [00:11<00:00, 10.14it/s, loss=0.0093]\n"
     ]
    },
    {
     "name": "stdout",
     "output_type": "stream",
     "text": [
      "\n",
      "训练损失: 0.008023\n",
      "验证损失: 0.006815\n",
      "✓ 保存最佳模型 (验证损失: 0.006815)\n",
      "\n",
      "Epoch 6/30\n",
      "--------------------------------------------------\n"
     ]
    },
    {
     "name": "stderr",
     "output_type": "stream",
     "text": [
      "训练: 100%|██████████████████████| 113/113 [00:11<00:00,  9.94it/s, loss=0.0057]\n"
     ]
    },
    {
     "name": "stdout",
     "output_type": "stream",
     "text": [
      "\n",
      "训练损失: 0.006139\n",
      "验证损失: 0.006482\n",
      "✓ 保存最佳模型 (验证损失: 0.006482)\n",
      "\n",
      "Epoch 7/30\n",
      "--------------------------------------------------\n"
     ]
    },
    {
     "name": "stderr",
     "output_type": "stream",
     "text": [
      "训练: 100%|██████████████████████| 113/113 [00:10<00:00, 10.37it/s, loss=0.0055]\n"
     ]
    },
    {
     "name": "stdout",
     "output_type": "stream",
     "text": [
      "\n",
      "训练损失: 0.005681\n",
      "验证损失: 0.005098\n",
      "✓ 保存最佳模型 (验证损失: 0.005098)\n",
      "\n",
      "Epoch 8/30\n",
      "--------------------------------------------------\n"
     ]
    },
    {
     "name": "stderr",
     "output_type": "stream",
     "text": [
      "训练: 100%|██████████████████████| 113/113 [00:10<00:00, 10.28it/s, loss=0.0048]\n"
     ]
    },
    {
     "name": "stdout",
     "output_type": "stream",
     "text": [
      "\n",
      "训练损失: 0.005323\n",
      "验证损失: 0.004533\n",
      "✓ 保存最佳模型 (验证损失: 0.004533)\n",
      "\n",
      "Epoch 9/30\n",
      "--------------------------------------------------\n"
     ]
    },
    {
     "name": "stderr",
     "output_type": "stream",
     "text": [
      "训练: 100%|██████████████████████| 113/113 [00:10<00:00, 10.43it/s, loss=0.0037]\n"
     ]
    },
    {
     "name": "stdout",
     "output_type": "stream",
     "text": [
      "\n",
      "训练损失: 0.005404\n",
      "验证损失: 0.004118\n",
      "✓ 保存最佳模型 (验证损失: 0.004118)\n",
      "\n",
      "Epoch 10/30\n",
      "--------------------------------------------------\n"
     ]
    },
    {
     "name": "stderr",
     "output_type": "stream",
     "text": [
      "训练: 100%|██████████████████████| 113/113 [00:10<00:00, 10.40it/s, loss=0.0049]\n"
     ]
    },
    {
     "name": "stdout",
     "output_type": "stream",
     "text": [
      "\n",
      "训练损失: 0.004750\n",
      "验证损失: 0.005532\n",
      "✓ 保存检查点: epoch_10\n",
      "\n",
      "Epoch 11/30\n",
      "--------------------------------------------------\n"
     ]
    },
    {
     "name": "stderr",
     "output_type": "stream",
     "text": [
      "训练: 100%|██████████████████████| 113/113 [00:10<00:00, 10.38it/s, loss=0.0039]\n"
     ]
    },
    {
     "name": "stdout",
     "output_type": "stream",
     "text": [
      "\n",
      "训练损失: 0.004434\n",
      "验证损失: 0.004193\n",
      "\n",
      "Epoch 12/30\n",
      "--------------------------------------------------\n"
     ]
    },
    {
     "name": "stderr",
     "output_type": "stream",
     "text": [
      "训练: 100%|██████████████████████| 113/113 [00:10<00:00, 10.56it/s, loss=0.0031]\n"
     ]
    },
    {
     "name": "stdout",
     "output_type": "stream",
     "text": [
      "\n",
      "训练损失: 0.004422\n",
      "验证损失: 0.004398\n",
      "\n",
      "Epoch 13/30\n",
      "--------------------------------------------------\n"
     ]
    },
    {
     "name": "stderr",
     "output_type": "stream",
     "text": [
      "训练: 100%|██████████████████████| 113/113 [00:11<00:00, 10.18it/s, loss=0.0041]\n"
     ]
    },
    {
     "name": "stdout",
     "output_type": "stream",
     "text": [
      "\n",
      "训练损失: 0.004171\n",
      "验证损失: 0.004666\n",
      "\n",
      "Epoch 14/30\n",
      "--------------------------------------------------\n"
     ]
    },
    {
     "name": "stderr",
     "output_type": "stream",
     "text": [
      "训练: 100%|██████████████████████| 113/113 [00:11<00:00,  9.93it/s, loss=0.0032]\n"
     ]
    },
    {
     "name": "stdout",
     "output_type": "stream",
     "text": [
      "\n",
      "训练损失: 0.004160\n",
      "验证损失: 0.004426\n",
      "\n",
      "Epoch 15/30\n",
      "--------------------------------------------------\n"
     ]
    },
    {
     "name": "stderr",
     "output_type": "stream",
     "text": [
      "训练: 100%|██████████████████████| 113/113 [00:10<00:00, 10.31it/s, loss=0.0032]\n"
     ]
    },
    {
     "name": "stdout",
     "output_type": "stream",
     "text": [
      "\n",
      "训练损失: 0.003985\n",
      "验证损失: 0.003927\n",
      "✓ 保存最佳模型 (验证损失: 0.003927)\n",
      "\n",
      "Epoch 16/30\n",
      "--------------------------------------------------\n"
     ]
    },
    {
     "name": "stderr",
     "output_type": "stream",
     "text": [
      "训练: 100%|██████████████████████| 113/113 [00:10<00:00, 10.29it/s, loss=0.0063]\n"
     ]
    },
    {
     "name": "stdout",
     "output_type": "stream",
     "text": [
      "\n",
      "训练损失: 0.004265\n",
      "验证损失: 0.004454\n",
      "\n",
      "Epoch 17/30\n",
      "--------------------------------------------------\n"
     ]
    },
    {
     "name": "stderr",
     "output_type": "stream",
     "text": [
      "训练: 100%|██████████████████████| 113/113 [00:10<00:00, 10.50it/s, loss=0.0044]\n"
     ]
    },
    {
     "name": "stdout",
     "output_type": "stream",
     "text": [
      "\n",
      "训练损失: 0.003934\n",
      "验证损失: 0.003909\n",
      "✓ 保存最佳模型 (验证损失: 0.003909)\n",
      "\n",
      "Epoch 18/30\n",
      "--------------------------------------------------\n"
     ]
    },
    {
     "name": "stderr",
     "output_type": "stream",
     "text": [
      "训练: 100%|██████████████████████| 113/113 [00:11<00:00, 10.03it/s, loss=0.0029]\n"
     ]
    },
    {
     "name": "stdout",
     "output_type": "stream",
     "text": [
      "\n",
      "训练损失: 0.003767\n",
      "验证损失: 0.003489\n",
      "✓ 保存最佳模型 (验证损失: 0.003489)\n",
      "\n",
      "Epoch 19/30\n",
      "--------------------------------------------------\n"
     ]
    },
    {
     "name": "stderr",
     "output_type": "stream",
     "text": [
      "训练: 100%|██████████████████████| 113/113 [00:10<00:00, 10.58it/s, loss=0.0037]\n"
     ]
    },
    {
     "name": "stdout",
     "output_type": "stream",
     "text": [
      "\n",
      "训练损失: 0.003765\n",
      "验证损失: 0.004486\n",
      "\n",
      "Epoch 20/30\n",
      "--------------------------------------------------\n"
     ]
    },
    {
     "name": "stderr",
     "output_type": "stream",
     "text": [
      "训练: 100%|██████████████████████| 113/113 [00:10<00:00, 10.29it/s, loss=0.0050]\n"
     ]
    },
    {
     "name": "stdout",
     "output_type": "stream",
     "text": [
      "\n",
      "训练损失: 0.003783\n",
      "验证损失: 0.003594\n",
      "✓ 保存检查点: epoch_20\n",
      "\n",
      "Epoch 21/30\n",
      "--------------------------------------------------\n"
     ]
    },
    {
     "name": "stderr",
     "output_type": "stream",
     "text": [
      "训练: 100%|██████████████████████| 113/113 [00:10<00:00, 10.34it/s, loss=0.0033]\n"
     ]
    },
    {
     "name": "stdout",
     "output_type": "stream",
     "text": [
      "\n",
      "训练损失: 0.003388\n",
      "验证损失: 0.003841\n",
      "\n",
      "Epoch 22/30\n",
      "--------------------------------------------------\n"
     ]
    },
    {
     "name": "stderr",
     "output_type": "stream",
     "text": [
      "训练: 100%|██████████████████████| 113/113 [00:11<00:00, 10.12it/s, loss=0.0037]\n"
     ]
    },
    {
     "name": "stdout",
     "output_type": "stream",
     "text": [
      "\n",
      "训练损失: 0.003600\n",
      "验证损失: 0.004257\n",
      "\n",
      "Epoch 23/30\n",
      "--------------------------------------------------\n"
     ]
    },
    {
     "name": "stderr",
     "output_type": "stream",
     "text": [
      "训练: 100%|██████████████████████| 113/113 [00:10<00:00, 10.30it/s, loss=0.0042]\n"
     ]
    },
    {
     "name": "stdout",
     "output_type": "stream",
     "text": [
      "\n",
      "训练损失: 0.003649\n",
      "验证损失: 0.004481\n",
      "\n",
      "Epoch 24/30\n",
      "--------------------------------------------------\n"
     ]
    },
    {
     "name": "stderr",
     "output_type": "stream",
     "text": [
      "训练: 100%|██████████████████████| 113/113 [00:10<00:00, 10.37it/s, loss=0.0041]\n"
     ]
    },
    {
     "name": "stdout",
     "output_type": "stream",
     "text": [
      "\n",
      "训练损失: 0.003727\n",
      "验证损失: 0.003866\n",
      "\n",
      "Epoch 25/30\n",
      "--------------------------------------------------\n"
     ]
    },
    {
     "name": "stderr",
     "output_type": "stream",
     "text": [
      "训练: 100%|██████████████████████| 113/113 [00:10<00:00, 10.36it/s, loss=0.0030]\n"
     ]
    },
    {
     "name": "stdout",
     "output_type": "stream",
     "text": [
      "\n",
      "训练损失: 0.003466\n",
      "验证损失: 0.003039\n",
      "✓ 保存最佳模型 (验证损失: 0.003039)\n",
      "\n",
      "Epoch 26/30\n",
      "--------------------------------------------------\n"
     ]
    },
    {
     "name": "stderr",
     "output_type": "stream",
     "text": [
      "训练: 100%|██████████████████████| 113/113 [00:11<00:00, 10.22it/s, loss=0.0035]\n"
     ]
    },
    {
     "name": "stdout",
     "output_type": "stream",
     "text": [
      "\n",
      "训练损失: 0.003407\n",
      "验证损失: 0.003403\n",
      "\n",
      "Epoch 27/30\n",
      "--------------------------------------------------\n"
     ]
    },
    {
     "name": "stderr",
     "output_type": "stream",
     "text": [
      "训练: 100%|██████████████████████| 113/113 [00:11<00:00,  9.78it/s, loss=0.0030]\n"
     ]
    },
    {
     "name": "stdout",
     "output_type": "stream",
     "text": [
      "\n",
      "训练损失: 0.003368\n",
      "验证损失: 0.003013\n",
      "✓ 保存最佳模型 (验证损失: 0.003013)\n",
      "\n",
      "Epoch 28/30\n",
      "--------------------------------------------------\n"
     ]
    },
    {
     "name": "stderr",
     "output_type": "stream",
     "text": [
      "训练: 100%|██████████████████████| 113/113 [00:10<00:00, 10.39it/s, loss=0.0027]\n"
     ]
    },
    {
     "name": "stdout",
     "output_type": "stream",
     "text": [
      "\n",
      "训练损失: 0.003108\n",
      "验证损失: 0.004374\n",
      "\n",
      "Epoch 29/30\n",
      "--------------------------------------------------\n"
     ]
    },
    {
     "name": "stderr",
     "output_type": "stream",
     "text": [
      "训练: 100%|██████████████████████| 113/113 [00:10<00:00, 10.66it/s, loss=0.0040]\n"
     ]
    },
    {
     "name": "stdout",
     "output_type": "stream",
     "text": [
      "\n",
      "训练损失: 0.003379\n",
      "验证损失: 0.002749\n",
      "✓ 保存最佳模型 (验证损失: 0.002749)\n",
      "\n",
      "Epoch 30/30\n",
      "--------------------------------------------------\n"
     ]
    },
    {
     "name": "stderr",
     "output_type": "stream",
     "text": [
      "训练: 100%|██████████████████████| 113/113 [00:10<00:00, 10.31it/s, loss=0.0031]\n"
     ]
    },
    {
     "name": "stdout",
     "output_type": "stream",
     "text": [
      "\n",
      "训练损失: 0.003128\n",
      "验证损失: 0.002793\n",
      "✓ 保存检查点: epoch_30\n",
      "\n",
      "训练完成！\n",
      "最佳验证损失: 0.002749\n"
     ]
    }
   ],
   "source": [
    "# 记录训练历史\n",
    "history = {\n",
    "    'train_loss': [],\n",
    "    'val_loss': []\n",
    "}\n",
    "\n",
    "best_val_loss = float('inf')\n",
    "\n",
    "print(\"\\n开始训练...\\n\")\n",
    "\n",
    "for epoch in range(NUM_EPOCHS):\n",
    "    print(f\"\\nEpoch {epoch+1}/{NUM_EPOCHS}\")\n",
    "    print(\"-\" * 50)\n",
    "    \n",
    "    # 训练\n",
    "    train_loss = train_epoch(model, train_loader, criterion, optimizer, device)\n",
    "    \n",
    "    # 验证\n",
    "    val_loss = validate(model, val_loader, criterion, device)\n",
    "    \n",
    "    # 记录\n",
    "    history['train_loss'].append(train_loss)\n",
    "    history['val_loss'].append(val_loss)\n",
    "    \n",
    "    print(f\"\\n训练损失: {train_loss:.6f}\")\n",
    "    print(f\"验证损失: {val_loss:.6f}\")\n",
    "    \n",
    "    # 保存最佳模型\n",
    "    if val_loss < best_val_loss:\n",
    "        best_val_loss = val_loss\n",
    "        torch.save({\n",
    "            'epoch': epoch,\n",
    "            'model_state_dict': model.state_dict(),\n",
    "            'optimizer_state_dict': optimizer.state_dict(),\n",
    "            'val_loss': val_loss,\n",
    "        }, CHECKPOINT_DIR / 'best_model.pth')\n",
    "        print(f\"✓ 保存最佳模型 (验证损失: {val_loss:.6f})\")\n",
    "    \n",
    "    # 定期保存检查点\n",
    "    if (epoch + 1) % 10 == 0:\n",
    "        torch.save({\n",
    "            'epoch': epoch,\n",
    "            'model_state_dict': model.state_dict(),\n",
    "            'optimizer_state_dict': optimizer.state_dict(),\n",
    "            'val_loss': val_loss,\n",
    "        }, CHECKPOINT_DIR / f'checkpoint_epoch_{epoch+1}.pth')\n",
    "        print(f\"✓ 保存检查点: epoch_{epoch+1}\")\n",
    "\n",
    "print(\"\\n训练完成！\")\n",
    "print(f\"最佳验证损失: {best_val_loss:.6f}\")"
   ]
  },
  {
   "cell_type": "markdown",
   "id": "l44ef9zp8fb",
   "metadata": {},
   "source": [
    "## 10. Training Curve Visualization\n",
    "\n",
    "Plots the training and validation loss curves over all epochs.\n",
    "\n",
    "**What to Look For:**\n",
    "- **Decreasing trend**: Both losses should decrease over time\n",
    "- **Convergence**: Losses should stabilize toward the end\n",
    "- **Overfitting**: If validation loss increases while training loss decreases, the model is overfitting\n",
    "- **Underfitting**: If both losses remain high, the model needs more capacity or training\n",
    "\n",
    "The curve is saved as an image for documentation and analysis."
   ]
  },
  {
   "cell_type": "code",
   "execution_count": 20,
   "id": "afde33b6-9faf-416b-91cf-06aa185a58c2",
   "metadata": {},
   "outputs": [
    {
     "data": {
      "image/png": "[encoded data removed]",
      "text/plain": [
       "<Figure size 1000x500 with 1 Axes>"
      ]
     },
     "metadata": {},
     "output_type": "display_data"
    },
    {
     "name": "stdout",
     "output_type": "stream",
     "text": [
      "训练曲线已保存: checkpoints/training_curve.png\n"
     ]
    }
   ],
   "source": [
    "# 绘制损失曲线\n",
    "plt.figure(figsize=(10, 5))\n",
    "plt.plot(history['train_loss'], label='training loss', marker='o')\n",
    "plt.plot(history['val_loss'], label='validation loss', marker='s')\n",
    "plt.xlabel('Epoch')\n",
    "plt.ylabel('Loss (L1)')\n",
    "plt.title('loss graph')\n",
    "plt.legend()\n",
    "plt.grid(True)\n",
    "plt.savefig(CHECKPOINT_DIR / 'training_curve.png', dpi=150, bbox_inches='tight')\n",
    "plt.show()\n",
    "\n",
    "print(f\"训练曲线已保存: {CHECKPOINT_DIR / 'training_curve.png'}\")"
   ]
  },
  {
   "cell_type": "markdown",
   "id": "vunompz6dx",
   "metadata": {},
   "source": [
    "## 11. Load Best Model\n",
    "\n",
    "Load the checkpoint with the lowest validation loss for inference and evaluation.\n",
    "\n",
    "The model is set to evaluation mode to ensure consistent behavior (e.g., no dropout)."
   ]
  },
  {
   "cell_type": "code",
   "execution_count": 17,
   "id": "fa51e86b-f6c5-4f57-8bcc-2aa3e6e9bff5",
   "metadata": {},
   "outputs": [
    {
     "name": "stdout",
     "output_type": "stream",
     "text": [
      "已加载最佳模型 (Epoch 29, 验证损失: 0.002749)\n"
     ]
    }
   ],
   "source": [
    "# 加载最佳模型\n",
    "checkpoint = torch.load(CHECKPOINT_DIR / 'best_model.pth')\n",
    "model.load_state_dict(checkpoint['model_state_dict'])\n",
    "model.eval()\n",
    "\n",
    "print(f\"已加载最佳模型 (Epoch {checkpoint['epoch']+1}, 验证损失: {checkpoint['val_loss']:.6f})\")"
   ]
  },
  {
   "cell_type": "markdown",
   "id": "pbw9ohtplhi",
   "metadata": {},
   "source": [
    "## 12. Visual Comparison of Results\n",
    "\n",
    "Generates side-by-side comparisons of:\n",
    "1. **Low Resolution Input**: The bicubic-upsampled LR image fed to the model\n",
    "2. **Model Output**: The super-resolved image generated by our U-Net\n",
    "3. **Ground Truth**: The actual high-resolution image\n",
    "\n",
    "**Purpose**: Visually assess the model's performance in recovering fine details, textures, and overall image quality. Look for:\n",
    "- Sharpness improvement over bicubic interpolation\n",
    "- Texture restoration\n",
    "- Absence of artifacts\n",
    "- Color fidelity"
   ]
  },
  {
   "cell_type": "code",
   "execution_count": 27,
   "id": "16e3e3a6-ffe4-4e9d-981c-2d274bf095a6",
   "metadata": {},
   "outputs": [
    {
     "data": {
      "image/png": "[encoded data removed]",
      "text/plain": [
       "<Figure size 1500x900 with 15 Axes>"
      ]
     },
     "metadata": {},
     "output_type": "display_data"
    },
    {
     "name": "stdout",
     "output_type": "stream",
     "text": [
      "测试结果已保存: checkpoints/test_results.png\n"
     ]
    }
   ],
   "source": [
    "# 可视化测试结果\n",
    "num_samples = 5\n",
    "fig, axes = plt.subplots(3, num_samples, figsize=(15, 9))\n",
    "\n",
    "with torch.no_grad():\n",
    "    for i in range(num_samples):\n",
    "        # 获取一个样本\n",
    "        lr_img, hr_img = val_dataset[i]\n",
    "        lr_img_input = lr_img.unsqueeze(0).to(device)\n",
    "        \n",
    "        # 生成超分辨率图片\n",
    "        sr_img = model(lr_img_input)\n",
    "        \n",
    "        # 转换为numpy显示\n",
    "        lr_img_np = lr_img.cpu().numpy().transpose(1, 2, 0)\n",
    "        hr_img_np = hr_img.cpu().numpy().transpose(1, 2, 0)\n",
    "        sr_img_np = sr_img.squeeze(0).cpu().numpy().transpose(1, 2, 0)\n",
    "        \n",
    "        # 裁剪到[0, 1]\n",
    "        lr_img_np = np.clip(lr_img_np, 0, 1)\n",
    "        hr_img_np = np.clip(hr_img_np, 0, 1)\n",
    "        sr_img_np = np.clip(sr_img_np, 0, 1)\n",
    "        \n",
    "        # 显示低分辨率\n",
    "        axes[0, i].imshow(lr_img_np)\n",
    "        axes[0, i].set_title('low res input')\n",
    "        axes[0, i].axis('off')\n",
    "        \n",
    "        # 显示生成的高分辨率\n",
    "        axes[1, i].imshow(sr_img_np)\n",
    "        axes[1, i].set_title('model output')\n",
    "        axes[1, i].axis('off')\n",
    "        \n",
    "        # 显示真实高分辨率\n",
    "        axes[2, i].imshow(hr_img_np)\n",
    "        axes[2, i].set_title('ground truth')\n",
    "        axes[2, i].axis('off')\n",
    "\n",
    "plt.tight_layout()\n",
    "plt.savefig(CHECKPOINT_DIR / 'test_results.png', dpi=150, bbox_inches='tight')\n",
    "plt.show()\n",
    "\n",
    "print(f\"测试结果已保存: {CHECKPOINT_DIR / 'test_results.png'}\")"
   ]
  },
  {
   "cell_type": "markdown",
   "id": "ksqdqf435zf",
   "metadata": {},
   "source": [
    "## 13. Quantitative Evaluation Metrics\n",
    "\n",
    "### PSNR (Peak Signal-to-Noise Ratio)\n",
    "- Measures pixel-wise difference between images\n",
    "- **Higher is better** (typically 25-35 dB for SR tasks)\n",
    "- PSNR = 20 × log10(MAX / √MSE)\n",
    "- Sensitive to pixel-level accuracy but may not correlate perfectly with perceptual quality\n",
    "\n",
    "### SSIM (Structural Similarity Index)\n",
    "- Measures structural similarity considering luminance, contrast, and structure\n",
    "- **Range**: 0 to 1 (1 = identical images)\n",
    "- Better correlates with human perception than PSNR\n",
    "- Values above 0.95 indicate excellent quality\n",
    "\n",
    "These metrics provide objective measurements to compare different models and training configurations."
   ]
  },
  {
   "cell_type": "code",
   "execution_count": 25,
   "id": "76a3abdf-bba0-4c86-8478-908e97d8aea2",
   "metadata": {},
   "outputs": [
    {
     "name": "stderr",
     "output_type": "stream",
     "text": [
      "计算评估指标: 100%|█████████████████████████████| 13/13 [00:03<00:00,  4.00it/s]"
     ]
    },
    {
     "name": "stdout",
     "output_type": "stream",
     "text": [
      "\n",
      "=== 评估指标 ===\n",
      "平均PSNR: 32.13 dB\n",
      "平均SSIM: 0.9884\n"
     ]
    },
    {
     "name": "stderr",
     "output_type": "stream",
     "text": [
      "\n"
     ]
    }
   ],
   "source": [
    "from skimage.metrics import peak_signal_noise_ratio as psnr\n",
    "from skimage.metrics import structural_similarity as ssim\n",
    "\n",
    "def calculate_metrics(model, val_loader, device):\n",
    "    \"\"\"计算PSNR和SSIM\"\"\"\n",
    "    model.eval()\n",
    "    psnr_scores = []\n",
    "    ssim_scores = []\n",
    "    \n",
    "    with torch.no_grad():\n",
    "        for lr_imgs, hr_imgs in tqdm(val_loader, desc='计算评估指标'):\n",
    "            lr_imgs = lr_imgs.to(device)\n",
    "            hr_imgs = hr_imgs.to(device)\n",
    "            \n",
    "            sr_imgs = model(lr_imgs)\n",
    "            \n",
    "            # 转换为numpy\n",
    "            sr_imgs_np = sr_imgs.cpu().numpy().transpose(0, 2, 3, 1)\n",
    "            hr_imgs_np = hr_imgs.cpu().numpy().transpose(0, 2, 3, 1)\n",
    "            \n",
    "            # 计算每张图片的指标\n",
    "            for sr_img, hr_img in zip(sr_imgs_np, hr_imgs_np):\n",
    "                sr_img = np.clip(sr_img, 0, 1)\n",
    "                hr_img = np.clip(hr_img, 0, 1)\n",
    "                \n",
    "                psnr_score = psnr(hr_img, sr_img, data_range=1.0)\n",
    "                ssim_score = ssim(hr_img, sr_img, data_range=1.0, channel_axis=2)\n",
    "                \n",
    "                psnr_scores.append(psnr_score)\n",
    "                ssim_scores.append(ssim_score)\n",
    "    \n",
    "    return np.mean(psnr_scores), np.mean(ssim_scores)\n",
    "\n",
    "# 计算指标\n",
    "avg_psnr, avg_ssim = calculate_metrics(model, val_loader, device)\n",
    "\n",
    "print(\"\\n=== 评估指标 ===\")\n",
    "print(f\"平均PSNR: {avg_psnr:.2f} dB\")\n",
    "print(f\"平均SSIM: {avg_ssim:.4f}\")"
   ]
  },
  {
   "cell_type": "markdown",
   "id": "kvrzdzrmcxd",
   "metadata": {},
   "source": [
    "## 14. Training Summary\n",
    "\n",
    "Generates a comprehensive summary of the training session including:\n",
    "- Model architecture details\n",
    "- Hyperparameters used\n",
    "- Final performance metrics (loss, PSNR, SSIM)\n",
    "- File paths to saved models and results\n",
    "\n",
    "This summary is saved as a text file for future reference and experiment tracking."
   ]
  },
  {
   "cell_type": "code",
   "execution_count": 26,
   "id": "e2bdaa9e-8880-492d-94d6-c07bb1e51183",
   "metadata": {},
   "outputs": [
    {
     "name": "stdout",
     "output_type": "stream",
     "text": [
      "\n",
      "训练总结\n",
      "==================================================\n",
      "模型: U-Net\n",
      "训练轮数: 30\n",
      "批次大小: 8\n",
      "学习率: 0.0002\n",
      "损失函数: L1 Loss\n",
      "\n",
      "最终结果:\n",
      "- 最佳验证损失: 0.002749\n",
      "- 平均PSNR: 32.13 dB\n",
      "- 平均SSIM: 0.9884\n",
      "\n",
      "模型保存位置: checkpoints/best_model.pth\n",
      "\n",
      "训练总结已保存: checkpoints/training_summary.txt\n"
     ]
    }
   ],
   "source": [
    "# 保存训练总结\n",
    "summary = f\"\"\"\n",
    "训练总结\n",
    "{'='*50}\n",
    "模型: U-Net\n",
    "训练轮数: {NUM_EPOCHS}\n",
    "批次大小: {BATCH_SIZE}\n",
    "学习率: {LEARNING_RATE}\n",
    "损失函数: L1 Loss\n",
    "\n",
    "最终结果:\n",
    "- 最佳验证损失: {best_val_loss:.6f}\n",
    "- 平均PSNR: {avg_psnr:.2f} dB\n",
    "- 平均SSIM: {avg_ssim:.4f}\n",
    "\n",
    "模型保存位置: {CHECKPOINT_DIR / 'best_model.pth'}\n",
    "\"\"\"\n",
    "\n",
    "print(summary)\n",
    "\n",
    "with open(CHECKPOINT_DIR / 'training_summary.txt', 'w') as f:\n",
    "    f.write(summary)\n",
    "\n",
    "print(f\"训练总结已保存: {CHECKPOINT_DIR / 'training_summary.txt'}\")"
   ]
  },
  {
   "cell_type": "code",
   "execution_count": null,
   "id": "43d4fdce-80e9-46d2-ab7d-1b4a559d84ea",
   "metadata": {},
   "outputs": [],
   "source": []
  }
 ],
 "metadata": {
  "kernelspec": {
   "display_name": "Python (classification)",
   "language": "python",
   "name": "classification"
  },
  "language_info": {
   "codemirror_mode": {
    "name": "ipython",
    "version": 3
   },
   "file_extension": ".py",
   "mimetype": "text/x-python",
   "name": "python",
   "nbconvert_exporter": "python",
   "pygments_lexer": "ipython3",
   "version": "3.13.7"
  }
 },
 "nbformat": 4,
 "nbformat_minor": 5
}
