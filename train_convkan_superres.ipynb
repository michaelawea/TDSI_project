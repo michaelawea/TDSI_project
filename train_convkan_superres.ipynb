{
 "cells": [
  {
   "cell_type": "markdown",
   "id": "9397426b",
   "metadata": {},
   "source": [
    "# ConvKAN Super-Resolution Training Notebook\n",
    "This is the Jupyter Notebook version of `train_convkan_superres.py`.\n",
    "Includes:\n",
    "- Environment and dependency notes\n",
    "- Dataset class `SuperResolutionDataset`\n",
    "- Model definition `ConvKAN_SR` and residual blocks\n",
    "- Training loop and model saving"
   ]
  },
  {
   "cell_type": "code",
   "execution_count": null,
   "id": "0b99cd99",
   "metadata": {},
   "outputs": [],
   "source": [
    "# Import required libraries\n",
    "import os\n",
    "# choose idle GPU (set before importing torch); change to '0' if you want GPU0\n",
    "os.environ.setdefault('CUDA_VISIBLE_DEVICES', '1')\n",
    "# reduce fragmentation: set before CUDA allocations if possible\n",
    "os.environ['PYTORCH_CUDA_ALLOC_CONF'] = 'expandable_segments:True'\n",
    "import torch\n",
    "from torch import nn\n",
    "import torch.optim as optim\n",
    "from torch.utils.data import Dataset, DataLoader\n",
    "from torchvision import transforms\n",
    "from PIL import Image\n",
    "import glob\n",
    "from tqdm import tqdm\n",
    "\n",
    "# Try to import convkan. If unavailable, user can install it in the notebook\n",
    "try:\n",
    "    from convkan import ConvKAN, LayerNorm2D\n",
    "except ImportError:\n",
    "    print(\"Warning: convkan is not installed. To install, run: !pip install convkan\")"
   ]
  },
  {
   "cell_type": "markdown",
   "id": "febc1820",
   "metadata": {},
   "source": [
    "## Dataset\n",
    "Define a PyTorch Dataset to load low-resolution and high-resolution image pairs. Make sure there are corresponding PNG images in `dataset/low_resolution` and `dataset/high_resolution`."
   ]
  },
  {
   "cell_type": "code",
   "execution_count": null,
   "id": "147e7f67",
   "metadata": {},
   "outputs": [],
   "source": [
    "class SuperResolutionDataset(Dataset):\n",
    "    def __init__(self, lr_dir, hr_dir, transform=None):\n",
    "        self.lr_dir = lr_dir\n",
    "        self.hr_dir = hr_dir\n",
    "        self.transform = transform\n",
    "        \n",
    "        self.lr_images = sorted(glob.glob(os.path.join(self.lr_dir, '*.png')))\n",
    "        self.hr_images = sorted(glob.glob(os.path.join(self.hr_dir, '*.png')))\n",
    "        \n",
    "        if not self.lr_images or not self.hr_images:\n",
    "            raise IOError(f\"Error: No image files found in '{lr_dir}' or '{hr_dir}'. Please check the paths.\")\n",
    "        \n",
    "        print(f\"Found {len(self.lr_images)} low-resolution images and {len(self.hr_images)} high-resolution images.\")\n",
    "        assert len(self.lr_images) == len(self.hr_images), \"The number of low-resolution and high-resolution images does not match!\"\n",
    "\n",
    "    def __len__(self):\n",
    "        return len(self.lr_images)\n",
    "\n",
    "    def __getitem__(self, idx):\n",
    "        lr_image_path = self.lr_images[idx]\n",
    "        hr_image_path = self.hr_images[idx]\n",
    "        \n",
    "        lr_image = Image.open(lr_image_path).convert(\"RGB\")\n",
    "        hr_image = Image.open(hr_image_path).convert(\"RGB\")\n",
    "\n",
    "        if self.transform:\n",
    "            lr_image = self.transform(lr_image)\n",
    "            hr_image = self.transform(hr_image)\n",
    "            \n",
    "        return lr_image, hr_image"
   ]
  },
  {
   "cell_type": "markdown",
   "id": "1ec83fa4",
   "metadata": {},
   "source": [
    "## Model definition\n",
    "Includes a residual block `ConvKANResBlock` and the main model `ConvKAN_SR`."
   ]
  },
  {
   "cell_type": "code",
   "execution_count": null,
   "id": "7e742f7a",
   "metadata": {},
   "outputs": [],
   "source": [
    "class ConvKANResBlock(nn.Module):\n",
    "    def __init__(self, channels):\n",
    "        super().__init__()\n",
    "        self.block = nn.Sequential(\n",
    "            ConvKAN(channels, channels, kernel_size=3, padding=1),\n",
    "            LayerNorm2D(channels),\n",
    "            ConvKAN(channels, channels, kernel_size=3, padding=1),\n",
    "            LayerNorm2D(channels)\n",
    "        )\n",
    "\n",
    "    def forward(self, x):\n",
    "        return x + self.block(x)\n",
    "\n",
    "class ConvKAN_SR(nn.Module):\n",
    "    def __init__(self, in_channels=3, out_channels=3, base_filters=64, n_res_blocks=8, upscale_factor=2):\n",
    "        super().__init__()\n",
    "        \n",
    "        self.head = ConvKAN(in_channels, base_filters, kernel_size=3, padding=1)\n",
    "        \n",
    "        body = [ConvKANResBlock(base_filters) for _ in range(n_res_blocks)]\n",
    "        self.body = nn.Sequential(*body)\n",
    "        \n",
    "        self.upsample = nn.Sequential(\n",
    "            ConvKAN(base_filters, base_filters * (upscale_factor ** 2), kernel_size=3, padding=1),\n",
    "            nn.PixelShuffle(upscale_factor),\n",
    "            LayerNorm2D(base_filters)\n",
    "        )\n",
    "        \n",
    "        self.tail = nn.Conv2d(base_filters, out_channels, kernel_size=3, padding=1)\n",
    "        \n",
    "    def forward(self, x):\n",
    "        x = self.head(x)\n",
    "        res = x\n",
    "        x = self.body(x)\n",
    "        x = x + res\n",
    "        x = self.upsample(x)\n",
    "        x = self.tail(x)\n",
    "        return x"
   ]
  },
  {
   "cell_type": "markdown",
   "id": "c2fb90ac",
   "metadata": {},
   "source": [
    "## Training setup and main routine\n",
    "In this notebook the training section is split into parameter setup, data loading, model initialization and the training loop for easier step-by-step execution and debugging."
   ]
  },
  {
   "cell_type": "code",
   "execution_count": null,
   "id": "24da54ed",
   "metadata": {},
   "outputs": [],
   "source": "# Hyperparameters and path setup\nLR_DIR = \"dataset/low_resolution\"\nHR_DIR = \"dataset/high_resolution\"\nLEARNING_RATE = 1e-4\nBATCH_SIZE = 1  # reduced to 1 due to GPU memory constraints\nNUM_EPOCHS = 50\nDEVICE = \"cuda\" if torch.cuda.is_available() else \"cpu\"\nUPSCALE_FACTOR = 2\n\nprint(f\"Using device: {DEVICE}\")"
  },
  {
   "cell_type": "code",
   "execution_count": null,
   "id": "375fdf51",
   "metadata": {},
   "outputs": [],
   "source": "# Dataset and DataLoader\n# Add image resizing to reduce memory usage\n# ConvKAN works best with smaller images (MNIST example uses 28x28)\nMAX_IMAGE_SIZE = 128  # Reduce to 128x128 to save memory\n\ntransform = transforms.Compose([\n    transforms.Resize((MAX_IMAGE_SIZE, MAX_IMAGE_SIZE)),  # Resize to fixed size\n    transforms.ToTensor()\n])\n\nprint(f\"Images will be resized to {MAX_IMAGE_SIZE}x{MAX_IMAGE_SIZE}\")\n\ntry:\n    train_dataset = SuperResolutionDataset(lr_dir=LR_DIR, hr_dir=HR_DIR, transform=transform)\nexcept (IOError, AssertionError) as e:\n    print(e)\n    raise\n\n# IMPORTANT: In Jupyter notebooks, num_workers > 0 can cause memory leaks\n# Set num_workers=0 to avoid multiprocessing issues\ntrain_loader = DataLoader(train_dataset, batch_size=BATCH_SIZE, shuffle=True, pin_memory=True, num_workers=0)"
  },
  {
   "cell_type": "code",
   "execution_count": null,
   "id": "645d2a29",
   "metadata": {},
   "outputs": [],
   "source": "# Initialize model, loss and optimizer\nfrom torch.cuda.amp import autocast, GradScaler\n\n# Clear GPU cache before model initialization\ntorch.cuda.empty_cache()\n\n# Test: load one sample to check image size\nsample_lr, sample_hr = train_dataset[0]\nprint(f\"DEBUG: LR image shape: {sample_lr.shape}\")\nprint(f\"DEBUG: HR image shape: {sample_hr.shape}\")\nprint(f\"DEBUG: LR image size (pixels): {sample_lr.shape[1] * sample_lr.shape[2]}\")\n\n# Calculate expected memory usage\ndef estimate_memory(batch_size, channels, height, width, base_filters, n_res_blocks):\n    # Input\n    input_mem = batch_size * channels * height * width * 4  # float32\n    # After head: base_filters channels\n    head_mem = batch_size * base_filters * height * width * 4\n    # Each res block roughly doubles memory for forward + backward\n    body_mem = head_mem * n_res_blocks * 3  # conservative estimate\n    # Upsampled (2x resolution)\n    upsample_mem = batch_size * base_filters * (height * 2) * (width * 2) * 4\n    total_mb = (input_mem + head_mem + body_mem + upsample_mem) / (1024 ** 2)\n    return total_mb\n\nestimated_mem = estimate_memory(BATCH_SIZE, 3, sample_lr.shape[1], sample_lr.shape[2], 32, 4)\nprint(f\"DEBUG: Estimated forward pass memory: {estimated_mem:.2f} MB\")\nprint(f\"DEBUG: With gradients (×3): {estimated_mem * 3:.2f} MB\")\n\n# Only proceed if memory seems reasonable\nif estimated_mem * 3 > 1000:  # More than 1GB for one batch\n    print(f\"\\nWARNING: Image size {sample_lr.shape} is TOO LARGE!\")\n    print(f\"Recommended: Resize images to max 256x256 or 128x128\")\n    print(f\"Current image will use ~{estimated_mem * 3:.0f} MB per batch\")\n    \n# Further reduce model size: base_filters=16, n_res_blocks=2\nprint(f\"\\nInitializing smaller model: base_filters=16, n_res_blocks=2\")\nmodel = ConvKAN_SR(in_channels=3, out_channels=3, base_filters=16, n_res_blocks=2, upscale_factor=UPSCALE_FACTOR).to(DEVICE)\ncriterion = nn.L1Loss()\noptimizer = optim.AdamW(model.parameters(), lr=LEARNING_RATE)\nscaler = GradScaler()\n\nprint(\"Model and data ready. Starting training...\")"
  },
  {
   "cell_type": "code",
   "execution_count": null,
   "id": "f6424f71",
   "metadata": {},
   "outputs": [],
   "source": "# Check GPU memory before training\nif DEVICE == \"cuda\":\n    print(\"GPU Memory Status:\")\n    print(f\"  Allocated: {torch.cuda.memory_allocated() / 1024**3:.2f} GB\")\n    print(f\"  Reserved: {torch.cuda.memory_reserved() / 1024**3:.2f} GB\")\n    print(f\"  Max Allocated: {torch.cuda.max_memory_allocated() / 1024**3:.2f} GB\")\n    torch.cuda.reset_peak_memory_stats()\n\n# Training loop (mixed precision, can be interrupted and executed step-by-step)\nfor epoch in range(NUM_EPOCHS):\n    # clear any cached memory to reduce OOM risk between epochs\n    torch.cuda.empty_cache()\n    model.train()\n    progress_bar = tqdm(train_loader, desc=f\"Epoch {epoch+1}/{NUM_EPOCHS}\")\n    total_loss = 0.0\n    \n    for batch_idx, (lr_images, hr_images) in enumerate(progress_bar):\n        # Use non_blocking for async data transfer with pin_memory\n        lr_images = lr_images.to(DEVICE, non_blocking=True)\n        hr_images = hr_images.to(DEVICE, non_blocking=True)\n        \n        # Debug first batch\n        if epoch == 0 and batch_idx == 0:\n            print(f\"\\nDEBUG First batch:\")\n            print(f\"  LR shape: {lr_images.shape}, HR shape: {hr_images.shape}\")\n            print(f\"  GPU memory before forward: {torch.cuda.memory_allocated() / 1024**2:.2f} MB\")\n        \n        optimizer.zero_grad(set_to_none=True)  # More efficient than default zero_grad()\n        \n        try:\n            with torch.amp.autocast('cuda'):\n                sr_images = model(lr_images)\n                \n                if epoch == 0 and batch_idx == 0:\n                    print(f\"  GPU memory after forward: {torch.cuda.memory_allocated() / 1024**2:.2f} MB\")\n                    print(f\"  SR shape: {sr_images.shape}\")\n                \n                loss = criterion(sr_images, hr_images)\n            \n            scaler.scale(loss).backward()\n            scaler.step(optimizer)\n            scaler.update()\n            \n            total_loss += loss.item()\n            progress_bar.set_postfix(loss=f\"{loss.item():.4f}\")\n            \n        except RuntimeError as e:\n            print(f\"\\nERROR at batch {batch_idx}:\")\n            print(f\"  LR shape: {lr_images.shape}\")\n            print(f\"  GPU memory: {torch.cuda.memory_allocated() / 1024**2:.2f} MB\")\n            raise e\n        \n        # Explicitly delete tensors to help garbage collection\n        del lr_images, hr_images, sr_images, loss\n        \n    torch.cuda.empty_cache()\n    avg_loss = total_loss / len(train_loader)\n    print(f\"Epoch {epoch+1} finished, average loss: {avg_loss:.4f}\")\n    print(f\"  Peak GPU memory: {torch.cuda.max_memory_allocated() / 1024**3:.2f} GB\")\n    torch.cuda.reset_peak_memory_stats()\n\nprint(\"Training complete!\")"
  },
  {
   "cell_type": "code",
   "execution_count": null,
   "id": "5c9fb46c",
   "metadata": {},
   "outputs": [],
   "source": [
    "# Save model\n",
    "torch.save(model.state_dict(), 'convkan_sr_model.pth')\n",
    "print(\"Model saved to convkan_sr_model.pth\")"
   ]
  },
  {
   "cell_type": "markdown",
   "id": "546cc7ff",
   "metadata": {},
   "source": [
    "### Notes\n",
    "- If you want to monitor training curves in the notebook, record loss values during the training loop and plot them with matplotlib.\n",
    "- On systems without a GPU, reduce `BATCH_SIZE` and `NUM_EPOCHS` to speed up testing."
   ]
  }
 ],
 "metadata": {
  "language_info": {
   "name": "python"
  }
 },
 "nbformat": 4,
 "nbformat_minor": 5
}