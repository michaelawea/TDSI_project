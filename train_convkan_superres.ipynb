{
 "cells": [
  {
   "cell_type": "markdown",
   "id": "9397426b",
   "metadata": {},
   "source": [
    "# ConvKAN Super-Resolution Training Notebook\n",
    "This is the Jupyter Notebook version of `train_convkan_superres.py`.\n",
    "Includes:\n",
    "- Environment and dependency notes\n",
    "- Dataset class `SuperResolutionDataset`\n",
    "- Model definition `ConvKAN_SR` and residual blocks\n",
    "- Training loop and model saving"
   ]
  },
  {
   "cell_type": "code",
   "execution_count": null,
   "id": "0b99cd99",
   "metadata": {},
   "outputs": [],
   "source": [
    "# Import required libraries\n",
    "import os\n",
    "# choose idle GPU (set before importing torch); change to '0' if you want GPU0\n",
    "os.environ.setdefault('CUDA_VISIBLE_DEVICES', '1')\n",
    "# reduce fragmentation: set before CUDA allocations if possible\n",
    "os.environ['PYTORCH_CUDA_ALLOC_CONF'] = 'expandable_segments:True'\n",
    "import torch\n",
    "from torch import nn\n",
    "import torch.optim as optim\n",
    "from torch.utils.data import Dataset, DataLoader\n",
    "from torchvision import transforms\n",
    "from PIL import Image\n",
    "import glob\n",
    "from tqdm import tqdm\n",
    "\n",
    "# Try to import convkan. If unavailable, user can install it in the notebook\n",
    "try:\n",
    "    from convkan import ConvKAN, LayerNorm2D\n",
    "except ImportError:\n",
    "    print(\"Warning: convkan is not installed. To install, run: !pip install convkan\")"
   ]
  },
  {
   "cell_type": "markdown",
   "id": "febc1820",
   "metadata": {},
   "source": [
    "## Dataset\n",
    "Define a PyTorch Dataset to load low-resolution and high-resolution image pairs. Make sure there are corresponding PNG images in `dataset/low_resolution` and `dataset/high_resolution`."
   ]
  },
  {
   "cell_type": "code",
   "execution_count": null,
   "id": "147e7f67",
   "metadata": {},
   "outputs": [],
   "source": [
    "class SuperResolutionDataset(Dataset):\n",
    "    def __init__(self, lr_dir, hr_dir, transform=None):\n",
    "        self.lr_dir = lr_dir\n",
    "        self.hr_dir = hr_dir\n",
    "        self.transform = transform\n",
    "        \n",
    "        self.lr_images = sorted(glob.glob(os.path.join(self.lr_dir, '*.png')))\n",
    "        self.hr_images = sorted(glob.glob(os.path.join(self.hr_dir, '*.png')))\n",
    "        \n",
    "        if not self.lr_images or not self.hr_images:\n",
    "            raise IOError(f\"Error: No image files found in '{lr_dir}' or '{hr_dir}'. Please check the paths.\")\n",
    "        \n",
    "        print(f\"Found {len(self.lr_images)} low-resolution images and {len(self.hr_images)} high-resolution images.\")\n",
    "        assert len(self.lr_images) == len(self.hr_images), \"The number of low-resolution and high-resolution images does not match!\"\n",
    "\n",
    "    def __len__(self):\n",
    "        return len(self.lr_images)\n",
    "\n",
    "    def __getitem__(self, idx):\n",
    "        lr_image_path = self.lr_images[idx]\n",
    "        hr_image_path = self.hr_images[idx]\n",
    "        \n",
    "        lr_image = Image.open(lr_image_path).convert(\"RGB\")\n",
    "        hr_image = Image.open(hr_image_path).convert(\"RGB\")\n",
    "\n",
    "        if self.transform:\n",
    "            lr_image = self.transform(lr_image)\n",
    "            hr_image = self.transform(hr_image)\n",
    "            \n",
    "        return lr_image, hr_image"
   ]
  },
  {
   "cell_type": "markdown",
   "id": "1ec83fa4",
   "metadata": {},
   "source": [
    "## Model definition\n",
    "Includes a residual block `ConvKANResBlock` and the main model `ConvKAN_SR`."
   ]
  },
  {
   "cell_type": "code",
   "execution_count": null,
   "id": "7e742f7a",
   "metadata": {},
   "outputs": [],
   "source": [
    "class ConvKANResBlock(nn.Module):\n",
    "    def __init__(self, channels):\n",
    "        super().__init__()\n",
    "        self.block = nn.Sequential(\n",
    "            ConvKAN(channels, channels, kernel_size=3, padding=1),\n",
    "            LayerNorm2D(channels),\n",
    "            ConvKAN(channels, channels, kernel_size=3, padding=1),\n",
    "            LayerNorm2D(channels)\n",
    "        )\n",
    "\n",
    "    def forward(self, x):\n",
    "        return x + self.block(x)\n",
    "\n",
    "class ConvKAN_SR(nn.Module):\n",
    "    def __init__(self, in_channels=3, out_channels=3, base_filters=64, n_res_blocks=8, upscale_factor=2):\n",
    "        super().__init__()\n",
    "        \n",
    "        self.head = ConvKAN(in_channels, base_filters, kernel_size=3, padding=1)\n",
    "        \n",
    "        body = [ConvKANResBlock(base_filters) for _ in range(n_res_blocks)]\n",
    "        self.body = nn.Sequential(*body)\n",
    "        \n",
    "        self.upsample = nn.Sequential(\n",
    "            ConvKAN(base_filters, base_filters * (upscale_factor ** 2), kernel_size=3, padding=1),\n",
    "            nn.PixelShuffle(upscale_factor),\n",
    "            LayerNorm2D(base_filters)\n",
    "        )\n",
    "        \n",
    "        self.tail = nn.Conv2d(base_filters, out_channels, kernel_size=3, padding=1)\n",
    "        \n",
    "    def forward(self, x):\n",
    "        x = self.head(x)\n",
    "        res = x\n",
    "        x = self.body(x)\n",
    "        x = x + res\n",
    "        x = self.upsample(x)\n",
    "        x = self.tail(x)\n",
    "        return x"
   ]
  },
  {
   "cell_type": "markdown",
   "id": "c2fb90ac",
   "metadata": {},
   "source": [
    "## Training setup and main routine\n",
    "In this notebook the training section is split into parameter setup, data loading, model initialization and the training loop for easier step-by-step execution and debugging."
   ]
  },
  {
   "cell_type": "code",
   "execution_count": null,
   "id": "24da54ed",
   "metadata": {},
   "outputs": [],
   "source": [
    "# Hyperparameters and path setup\n",
    "LR_DIR = \"dataset/low_resolution\"\n",
    "HR_DIR = \"dataset/high_resolution\"\n",
    "LEARNING_RATE = 1e-4\n",
    "BATCH_SIZE = 2  # reduced from 16 to lower GPU memory usage\n",
    "NUM_EPOCHS = 50\n",
    "DEVICE = \"cuda\" if torch.cuda.is_available() else \"cpu\"\n",
    "UPSCALE_FACTOR = 2\n",
    "\n",
    "print(f\"Using device: {DEVICE}\")"
   ]
  },
  {
   "cell_type": "code",
   "execution_count": null,
   "id": "375fdf51",
   "metadata": {},
   "outputs": [],
   "source": [
    "# Dataset and DataLoader\n",
    "transform = transforms.ToTensor()\n",
    "try:\n",
    "    train_dataset = SuperResolutionDataset(lr_dir=LR_DIR, hr_dir=HR_DIR, transform=transform)\n",
    "except (IOError, AssertionError) as e:\n",
    "    print(e)\n",
    "    raise\n",
    "\n",
    "train_loader = DataLoader(train_dataset, batch_size=BATCH_SIZE, shuffle=True, pin_memory=True, num_workers=4)"
   ]
  },
  {
   "cell_type": "code",
   "execution_count": null,
   "id": "645d2a29",
   "metadata": {},
   "outputs": [],
   "source": [
    "# Initialize model, loss and optimizer\n",
    "from torch.cuda.amp import autocast, GradScaler\n",
    "\n",
    "model = ConvKAN_SR(upscale_factor=UPSCALE_FACTOR).to(DEVICE)\n",
    "criterion = nn.L1Loss()\n",
    "optimizer = optim.AdamW(model.parameters(), lr=LEARNING_RATE)\n",
    "scaler = GradScaler()\n",
    "\n",
    "print(\"Model and data ready. Starting training...\")"
   ]
  },
  {
   "cell_type": "code",
   "execution_count": null,
   "id": "f6424f71",
   "metadata": {},
   "outputs": [],
   "source": [
    "# Training loop (mixed precision, can be interrupted and executed step-by-step)\n",
    "for epoch in range(NUM_EPOCHS):\n",
    "    # clear any cached memory to reduce OOM risk between epochs\n",
    "    torch.cuda.empty_cache()\n",
    "    model.train()\n",
    "    progress_bar = tqdm(train_loader, desc=f\"Epoch {epoch+1}/{NUM_EPOCHS}\")\n",
    "    total_loss = 0.0\n",
    "    \n",
    "    for lr_images, hr_images in progress_bar:\n",
    "        lr_images = lr_images.to(DEVICE)\n",
    "        hr_images = hr_images.to(DEVICE)\n",
    "        \n",
    "        optimizer.zero_grad()\n",
    "        \n",
    "        with autocast():\n",
    "            sr_images = model(lr_images)\n",
    "            loss = criterion(sr_images, hr_images)\n",
    "        \n",
    "        scaler.scale(loss).backward()\n",
    "        scaler.step(optimizer)\n",
    "        scaler.update()\n",
    "        \n",
    "        total_loss += loss.item()\n",
    "        progress_bar.set_postfix(loss=f\"{loss.item():.4f}\")\n",
    "        \n",
    "    torch.cuda.empty_cache()\n",
    "    avg_loss = total_loss / len(train_loader)\n",
    "    print(f\"Epoch {epoch+1} finished, average loss: {avg_loss:.4f}\")\n",
    "\n",
    "print(\"Training complete!\")"
   ]
  },
  {
   "cell_type": "code",
   "execution_count": null,
   "id": "5c9fb46c",
   "metadata": {},
   "outputs": [],
   "source": [
    "# Save model\n",
    "torch.save(model.state_dict(), 'convkan_sr_model.pth')\n",
    "print(\"Model saved to convkan_sr_model.pth\")"
   ]
  },
  {
   "cell_type": "markdown",
   "id": "546cc7ff",
   "metadata": {},
   "source": [
    "### Notes\n",
    "- If you want to monitor training curves in the notebook, record loss values during the training loop and plot them with matplotlib.\n",
    "- On systems without a GPU, reduce `BATCH_SIZE` and `NUM_EPOCHS` to speed up testing."
   ]
  }
 ],
 "metadata": {
  "language_info": {
   "name": "python"
  }
 },
 "nbformat": 4,
 "nbformat_minor": 5
}
