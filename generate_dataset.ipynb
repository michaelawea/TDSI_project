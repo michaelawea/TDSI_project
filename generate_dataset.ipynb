{
 "cells": [
  {
   "cell_type": "code",
   "execution_count": 12,
   "id": "ca132e54-71a1-4d13-9c32-51419b295e2c",
   "metadata": {},
   "outputs": [],
   "source": [
    "import numpy as np\n",
    "import matplotlib.pyplot as plt\n",
    "from PIL import Image\n",
    "import os\n",
    "from pathlib import Path\n",
    "import cv2"
   ]
  },
  {
   "cell_type": "code",
   "execution_count": 13,
   "id": "538bf066-abed-45ee-8fe0-3586b813fb29",
   "metadata": {},
   "outputs": [
    {
     "name": "stdout",
     "output_type": "stream",
     "text": [
      "数据集目录已创建: dataset\n"
     ]
    }
   ],
   "source": [
    "# 创建数据集文件夹\n",
    "dataset_dir = Path('./dataset')\n",
    "hr_dir = dataset_dir / 'high_resolution'\n",
    "lr_dir = dataset_dir / 'low_resolution'\n",
    "\n",
    "hr_dir.mkdir(parents=True, exist_ok=True)\n",
    "lr_dir.mkdir(parents=True, exist_ok=True)\n",
    "\n",
    "print(f\"数据集目录已创建: {dataset_dir}\")"
   ]
  },
  {
   "cell_type": "code",
   "execution_count": 14,
   "id": "dfe8d22c-7215-4f89-bb3b-3e4f6cbdae9b",
   "metadata": {},
   "outputs": [],
   "source": [
    "# 参数设置\n",
    "HR_SIZE = 256  # 高分辨率图片大小\n",
    "LR_SIZE = 64   # 低分辨率图片大小\n",
    "NUM_SAMPLES = 1000  # 生成样本数量\n",
    "SCALE_FACTOR = HR_SIZE // LR_SIZE  # 缩放倍数"
   ]
  },
  {
   "cell_type": "code",
   "execution_count": 15,
   "id": "8e38fcd2-1ee0-45cc-abb7-46d0b3cc134b",
   "metadata": {},
   "outputs": [],
   "source": [
    "def generate_circle(size=256):\n",
    "    \"\"\"生成圆形\"\"\"\n",
    "    img = np.zeros((size, size, 3), dtype=np.uint8)\n",
    "    center = (size // 2, size // 2)\n",
    "    radius = np.random.randint(size // 6, size // 3)\n",
    "    color = tuple(np.random.randint(100, 255, 3).tolist())\n",
    "    thickness = -1  # 填充\n",
    "    cv2.circle(img, center, radius, color, thickness)\n",
    "    return img\n",
    "\n",
    "def generate_rectangle(size=256):\n",
    "    \"\"\"生成矩形\"\"\"\n",
    "    img = np.zeros((size, size, 3), dtype=np.uint8)\n",
    "    w = np.random.randint(size // 4, size // 2)\n",
    "    h = np.random.randint(size // 4, size // 2)\n",
    "    x = np.random.randint(size // 6, size - w - size // 6)\n",
    "    y = np.random.randint(size // 6, size - h - size // 6)\n",
    "    color = tuple(np.random.randint(100, 255, 3).tolist())\n",
    "    cv2.rectangle(img, (x, y), (x + w, y + h), color, -1)\n",
    "    return img\n",
    "\n",
    "def generate_triangle(size=256):\n",
    "    \"\"\"生成三角形\"\"\"\n",
    "    img = np.zeros((size, size, 3), dtype=np.uint8)\n",
    "    pts = np.array([\n",
    "        [size // 2, size // 4],\n",
    "        [size // 4, 3 * size // 4],\n",
    "        [3 * size // 4, 3 * size // 4]\n",
    "    ], np.int32)\n",
    "    # 添加随机偏移\n",
    "    offset = np.random.randint(-size // 8, size // 8, pts.shape)\n",
    "    pts = pts + offset\n",
    "    pts = pts.reshape((-1, 1, 2))\n",
    "    color = tuple(np.random.randint(100, 255, 3).tolist())\n",
    "    cv2.fillPoly(img, [pts], color)\n",
    "    return img\n",
    "\n",
    "def generate_ellipse(size=256):\n",
    "    \"\"\"生成椭圆\"\"\"\n",
    "    img = np.zeros((size, size, 3), dtype=np.uint8)\n",
    "    center = (size // 2, size // 2)\n",
    "    axes = (np.random.randint(size // 6, size // 3), \n",
    "            np.random.randint(size // 8, size // 4))\n",
    "    angle = np.random.randint(0, 180)\n",
    "    color = tuple(np.random.randint(100, 255, 3).tolist())\n",
    "    cv2.ellipse(img, center, axes, angle, 0, 360, color, -1)\n",
    "    return img\n",
    "\n",
    "def generate_polygon(size=256):\n",
    "    \"\"\"生成多边形\"\"\"\n",
    "    img = np.zeros((size, size, 3), dtype=np.uint8)\n",
    "    num_points = np.random.randint(5, 8)\n",
    "    center = np.array([size // 2, size // 2])\n",
    "    radius = np.random.randint(size // 4, size // 3)\n",
    "    angles = np.linspace(0, 2 * np.pi, num_points, endpoint=False)\n",
    "    pts = np.array([\n",
    "        center + radius * np.array([np.cos(a), np.sin(a)]) \n",
    "        for a in angles\n",
    "    ], np.int32)\n",
    "    pts = pts.reshape((-1, 1, 2))\n",
    "    color = tuple(np.random.randint(100, 255, 3).tolist())\n",
    "    cv2.fillPoly(img, [pts], color)\n",
    "    return img\n",
    "\n",
    "def generate_multi_shapes(size=256):\n",
    "    \"\"\"生成多个形状的组合\"\"\"\n",
    "    img = np.zeros((size, size, 3), dtype=np.uint8)\n",
    "    num_shapes = np.random.randint(2, 4)\n",
    "    \n",
    "    for _ in range(num_shapes):\n",
    "        shape_type = np.random.choice(['circle', 'rectangle', 'triangle'])\n",
    "        if shape_type == 'circle':\n",
    "            center = (np.random.randint(size // 4, 3 * size // 4), \n",
    "                     np.random.randint(size // 4, 3 * size // 4))\n",
    "            radius = np.random.randint(size // 12, size // 6)\n",
    "            color = tuple(np.random.randint(50, 255, 3).tolist())\n",
    "            cv2.circle(img, center, radius, color, -1)\n",
    "        elif shape_type == 'rectangle':\n",
    "            w = np.random.randint(size // 8, size // 4)\n",
    "            h = np.random.randint(size // 8, size // 4)\n",
    "            x = np.random.randint(size // 8, size - w - size // 8)\n",
    "            y = np.random.randint(size // 8, size - h - size // 8)\n",
    "            color = tuple(np.random.randint(50, 255, 3).tolist())\n",
    "            cv2.rectangle(img, (x, y), (x + w, y + h), color, -1)\n",
    "        else:\n",
    "            cx = np.random.randint(size // 4, 3 * size // 4)\n",
    "            cy = np.random.randint(size // 4, 3 * size // 4)\n",
    "            s = np.random.randint(size // 12, size // 6)\n",
    "            pts = np.array([[cx, cy - s], [cx - s, cy + s], [cx + s, cy + s]], np.int32)\n",
    "            pts = pts.reshape((-1, 1, 2))\n",
    "            color = tuple(np.random.randint(50, 255, 3).tolist())\n",
    "            cv2.fillPoly(img, [pts], color)\n",
    "    \n",
    "    return img"
   ]
  },
  {
   "cell_type": "code",
   "execution_count": 16,
   "id": "9cab3bfd-e84c-4620-84ab-bbd155431498",
   "metadata": {},
   "outputs": [],
   "source": [
    "def downscale_image(img, scale_factor=4, method='bicubic'):\n",
    "    \"\"\"降低图片分辨率\n",
    "    \n",
    "    Args:\n",
    "        img: 输入图片\n",
    "        scale_factor: 缩放倍数\n",
    "        method: 降采样方法 ('bicubic', 'bilinear', 'area')\n",
    "    \"\"\"\n",
    "    h, w = img.shape[:2]\n",
    "    new_h, new_w = h // scale_factor, w // scale_factor\n",
    "    \n",
    "    if method == 'bicubic':\n",
    "        interpolation = cv2.INTER_CUBIC\n",
    "    elif method == 'bilinear':\n",
    "        interpolation = cv2.INTER_LINEAR\n",
    "    elif method == 'area':\n",
    "        interpolation = cv2.INTER_AREA\n",
    "    else:\n",
    "        interpolation = cv2.INTER_CUBIC\n",
    "    \n",
    "    lr_img = cv2.resize(img, (new_w, new_h), interpolation=interpolation)\n",
    "    return lr_img"
   ]
  },
  {
   "cell_type": "code",
   "execution_count": 17,
   "id": "c3dc05ee-ff57-46b0-b5c3-f87c4bb1e258",
   "metadata": {},
   "outputs": [
    {
     "name": "stdout",
     "output_type": "stream",
     "text": [
      "开始生成 1000 个样本...\n",
      "已生成 100/1000 个样本\n",
      "已生成 200/1000 个样本\n",
      "已生成 300/1000 个样本\n",
      "已生成 400/1000 个样本\n",
      "已生成 500/1000 个样本\n",
      "已生成 600/1000 个样本\n",
      "已生成 700/1000 个样本\n",
      "已生成 800/1000 个样本\n",
      "已生成 900/1000 个样本\n",
      "已生成 1000/1000 个样本\n",
      "\n",
      "数据集生成完成！\n",
      "高分辨率图片: dataset/high_resolution\n",
      "低分辨率图片: dataset/low_resolution\n"
     ]
    }
   ],
   "source": [
    "# 生成数据集\n",
    "shape_generators = [\n",
    "    generate_circle,\n",
    "    generate_rectangle,\n",
    "    generate_triangle,\n",
    "    generate_ellipse,\n",
    "    generate_polygon,\n",
    "    generate_multi_shapes\n",
    "]\n",
    "\n",
    "print(f\"开始生成 {NUM_SAMPLES} 个样本...\")\n",
    "\n",
    "for i in range(NUM_SAMPLES):\n",
    "    # 随机选择一个形状生成器\n",
    "    generator = np.random.choice(shape_generators)\n",
    "    \n",
    "    # 生成高分辨率图片\n",
    "    hr_img = generator(HR_SIZE)\n",
    "    \n",
    "    # 生成低分辨率图片\n",
    "    lr_img = downscale_image(hr_img, SCALE_FACTOR, method='bicubic')\n",
    "    \n",
    "    # 保存图片\n",
    "    hr_path = hr_dir / f'hr_{i:05d}.png'\n",
    "    lr_path = lr_dir / f'lr_{i:05d}.png'\n",
    "    \n",
    "    cv2.imwrite(str(hr_path), cv2.cvtColor(hr_img, cv2.COLOR_RGB2BGR))\n",
    "    cv2.imwrite(str(lr_path), cv2.cvtColor(lr_img, cv2.COLOR_RGB2BGR))\n",
    "    \n",
    "    if (i + 1) % 100 == 0:\n",
    "        print(f\"已生成 {i + 1}/{NUM_SAMPLES} 个样本\")\n",
    "\n",
    "print(f\"\\n数据集生成完成！\")\n",
    "print(f\"高分辨率图片: {hr_dir}\")\n",
    "print(f\"低分辨率图片: {lr_dir}\")"
   ]
  },
  {
   "cell_type": "code",
   "execution_count": 18,
   "id": "85880f12-6a7b-43a2-841c-e50b8ccf70ba",
   "metadata": {},
   "outputs": [
    {
     "data": {
      "image/png": "[encoded data removed]",
      "text/plain": [
       "<Figure size 1500x600 with 10 Axes>"
      ]
     },
     "metadata": {},
     "output_type": "display_data"
    },
    {
     "name": "stdout",
     "output_type": "stream",
     "text": [
      "样本可视化已保存: dataset/sample_visualization.png\n"
     ]
    }
   ],
   "source": [
    "# 可视化样本\n",
    "num_display = 5\n",
    "fig, axes = plt.subplots(2, num_display, figsize=(15, 6))\n",
    "\n",
    "for i in range(num_display):\n",
    "    # 读取高分辨率图片\n",
    "    hr_img = cv2.imread(str(hr_dir / f'hr_{i:05d}.png'))\n",
    "    hr_img = cv2.cvtColor(hr_img, cv2.COLOR_BGR2RGB)\n",
    "    \n",
    "    # 读取低分辨率图片\n",
    "    lr_img = cv2.imread(str(lr_dir / f'lr_{i:05d}.png'))\n",
    "    lr_img = cv2.cvtColor(lr_img, cv2.COLOR_BGR2RGB)\n",
    "    \n",
    "    # 显示高分辨率\n",
    "    axes[0, i].imshow(hr_img)\n",
    "    axes[0, i].set_title(f'HR {i} ({HR_SIZE}x{HR_SIZE})')\n",
    "    axes[0, i].axis('off')\n",
    "    \n",
    "    # 显示低分辨率\n",
    "    axes[1, i].imshow(lr_img)\n",
    "    axes[1, i].set_title(f'LR {i} ({LR_SIZE}x{LR_SIZE})')\n",
    "    axes[1, i].axis('off')\n",
    "\n",
    "plt.tight_layout()\n",
    "plt.savefig(dataset_dir / 'sample_visualization.png', dpi=150, bbox_inches='tight')\n",
    "plt.show()\n",
    "\n",
    "print(f\"样本可视化已保存: {dataset_dir / 'sample_visualization.png'}\")"
   ]
  },
  {
   "cell_type": "code",
   "execution_count": 19,
   "id": "c0029bf1-6a67-426f-8b04-268e22127a89",
   "metadata": {},
   "outputs": [
    {
     "name": "stdout",
     "output_type": "stream",
     "text": [
      "\n",
      "=== 数据集统计 ===\n",
      "总样本数: 1000\n",
      "高分辨率尺寸: 256x256\n",
      "低分辨率尺寸: 64x64\n",
      "缩放倍数: 4x\n",
      "\n",
      "形状类型: 圆形、矩形、三角形、椭圆、多边形、组合形状\n",
      "\n",
      "高分辨率数据集大小: 1.54 MB\n",
      "低分辨率数据集大小: 0.63 MB\n",
      "总大小: 2.17 MB\n"
     ]
    }
   ],
   "source": [
    "# 数据集统计信息\n",
    "print(\"\\n=== 数据集统计 ===\")\n",
    "print(f\"总样本数: {NUM_SAMPLES}\")\n",
    "print(f\"高分辨率尺寸: {HR_SIZE}x{HR_SIZE}\")\n",
    "print(f\"低分辨率尺寸: {LR_SIZE}x{LR_SIZE}\")\n",
    "print(f\"缩放倍数: {SCALE_FACTOR}x\")\n",
    "print(f\"\\n形状类型: 圆形、矩形、三角形、椭圆、多边形、组合形状\")\n",
    "\n",
    "# 计算数据集大小\n",
    "import os\n",
    "hr_size_mb = sum(os.path.getsize(hr_dir / f) for f in os.listdir(hr_dir)) / (1024 * 1024)\n",
    "lr_size_mb = sum(os.path.getsize(lr_dir / f) for f in os.listdir(lr_dir)) / (1024 * 1024)\n",
    "\n",
    "print(f\"\\n高分辨率数据集大小: {hr_size_mb:.2f} MB\")\n",
    "print(f\"低分辨率数据集大小: {lr_size_mb:.2f} MB\")\n",
    "print(f\"总大小: {hr_size_mb + lr_size_mb:.2f} MB\")"
   ]
  },
  {
   "cell_type": "code",
   "execution_count": null,
   "id": "79cf3eb3-2b2d-4613-bc97-95d25f6ceee4",
   "metadata": {},
   "outputs": [],
   "source": []
  }
 ],
 "metadata": {
  "kernelspec": {
   "display_name": "Python (classification)",
   "language": "python",
   "name": "classification"
  },
  "language_info": {
   "codemirror_mode": {
    "name": "ipython",
    "version": 3
   },
   "file_extension": ".py",
   "mimetype": "text/x-python",
   "name": "python",
   "nbconvert_exporter": "python",
   "pygments_lexer": "ipython3",
   "version": "3.13.7"
  }
 },
 "nbformat": 4,
 "nbformat_minor": 5
}
